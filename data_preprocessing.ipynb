{
 "cells": [
  {
   "cell_type": "code",
   "execution_count": 1,
   "id": "0cfbaf2d",
   "metadata": {
    "ExecuteTime": {
     "end_time": "2022-05-19T02:58:02.454147Z",
     "start_time": "2022-05-19T02:58:01.050927Z"
    }
   },
   "outputs": [],
   "source": [
    "import pandas as pd\n",
    "import numpy as np\n",
    "import warnings\n",
    "warnings.filterwarnings('ignore')\n",
    "import matplotlib.pyplot as plt\n",
    "import seaborn as sns"
   ]
  },
  {
   "cell_type": "markdown",
   "id": "ce440322",
   "metadata": {},
   "source": [
    "# 데이터 준비"
   ]
  },
  {
   "cell_type": "code",
   "execution_count": 19,
   "id": "d567fa78",
   "metadata": {
    "ExecuteTime": {
     "end_time": "2022-05-19T03:38:15.537658Z",
     "start_time": "2022-05-19T03:38:15.475652Z"
    }
   },
   "outputs": [
    {
     "data": {
      "text/html": [
       "<div>\n",
       "<style scoped>\n",
       "    .dataframe tbody tr th:only-of-type {\n",
       "        vertical-align: middle;\n",
       "    }\n",
       "\n",
       "    .dataframe tbody tr th {\n",
       "        vertical-align: top;\n",
       "    }\n",
       "\n",
       "    .dataframe thead th {\n",
       "        text-align: right;\n",
       "    }\n",
       "</style>\n",
       "<table border=\"1\" class=\"dataframe\">\n",
       "  <thead>\n",
       "    <tr style=\"text-align: right;\">\n",
       "      <th></th>\n",
       "      <th>Name</th>\n",
       "      <th>Platform</th>\n",
       "      <th>Year</th>\n",
       "      <th>Genre</th>\n",
       "      <th>Publisher</th>\n",
       "      <th>NA_Sales</th>\n",
       "      <th>EU_Sales</th>\n",
       "      <th>JP_Sales</th>\n",
       "      <th>Other_Sales</th>\n",
       "    </tr>\n",
       "  </thead>\n",
       "  <tbody>\n",
       "    <tr>\n",
       "      <th>16593</th>\n",
       "      <td>Ice Age 2: The Meltdown</td>\n",
       "      <td>GC</td>\n",
       "      <td>2006.0</td>\n",
       "      <td>Platform</td>\n",
       "      <td>Vivendi Games</td>\n",
       "      <td>0.15</td>\n",
       "      <td>0.04</td>\n",
       "      <td>0</td>\n",
       "      <td>0.01</td>\n",
       "    </tr>\n",
       "    <tr>\n",
       "      <th>16594</th>\n",
       "      <td>Rainbow Islands: Revolution</td>\n",
       "      <td>PSP</td>\n",
       "      <td>2005.0</td>\n",
       "      <td>Action</td>\n",
       "      <td>Rising Star Games</td>\n",
       "      <td>0.01</td>\n",
       "      <td>0</td>\n",
       "      <td>0</td>\n",
       "      <td>0</td>\n",
       "    </tr>\n",
       "    <tr>\n",
       "      <th>16595</th>\n",
       "      <td>NBA 2K16</td>\n",
       "      <td>PS3</td>\n",
       "      <td>2015.0</td>\n",
       "      <td>Sports</td>\n",
       "      <td>Take-Two Interactive</td>\n",
       "      <td>0.44</td>\n",
       "      <td>0.19</td>\n",
       "      <td>0.03</td>\n",
       "      <td>0.13</td>\n",
       "    </tr>\n",
       "    <tr>\n",
       "      <th>16596</th>\n",
       "      <td>Toukiden: The Age of Demons</td>\n",
       "      <td>PSV</td>\n",
       "      <td>2013.0</td>\n",
       "      <td>Action</td>\n",
       "      <td>Tecmo Koei</td>\n",
       "      <td>0.05</td>\n",
       "      <td>0.05</td>\n",
       "      <td>0.25</td>\n",
       "      <td>0.03</td>\n",
       "    </tr>\n",
       "    <tr>\n",
       "      <th>16597</th>\n",
       "      <td>The King of Fighters '95</td>\n",
       "      <td>PS</td>\n",
       "      <td>1996.0</td>\n",
       "      <td>Fighting</td>\n",
       "      <td>Sony Computer Entertainment</td>\n",
       "      <td>0</td>\n",
       "      <td>0</td>\n",
       "      <td>0.16</td>\n",
       "      <td>0.01</td>\n",
       "    </tr>\n",
       "  </tbody>\n",
       "</table>\n",
       "</div>"
      ],
      "text/plain": [
       "                              Name Platform    Year     Genre  \\\n",
       "16593      Ice Age 2: The Meltdown       GC  2006.0  Platform   \n",
       "16594  Rainbow Islands: Revolution      PSP  2005.0    Action   \n",
       "16595                     NBA 2K16      PS3  2015.0    Sports   \n",
       "16596  Toukiden: The Age of Demons      PSV  2013.0    Action   \n",
       "16597     The King of Fighters '95       PS  1996.0  Fighting   \n",
       "\n",
       "                         Publisher NA_Sales EU_Sales JP_Sales Other_Sales  \n",
       "16593                Vivendi Games     0.15     0.04        0        0.01  \n",
       "16594            Rising Star Games     0.01        0        0           0  \n",
       "16595         Take-Two Interactive     0.44     0.19     0.03        0.13  \n",
       "16596                   Tecmo Koei     0.05     0.05     0.25        0.03  \n",
       "16597  Sony Computer Entertainment        0        0     0.16        0.01  "
      ]
     },
     "execution_count": 19,
     "metadata": {},
     "output_type": "execute_result"
    }
   ],
   "source": [
    "df = pd.read_csv('vgames2.csv', sep =',', index_col=0)\n",
    "df.reset_index(inplace=True)\n",
    "df = df.drop('index',axis = 1)\n",
    "df.tail()"
   ]
  },
  {
   "cell_type": "code",
   "execution_count": 3,
   "id": "a98ff099",
   "metadata": {
    "ExecuteTime": {
     "end_time": "2022-05-19T02:58:03.527696Z",
     "start_time": "2022-05-19T02:58:03.499241Z"
    }
   },
   "outputs": [
    {
     "name": "stdout",
     "output_type": "stream",
     "text": [
      "<class 'pandas.core.frame.DataFrame'>\n",
      "RangeIndex: 16598 entries, 0 to 16597\n",
      "Data columns (total 9 columns):\n",
      " #   Column       Non-Null Count  Dtype  \n",
      "---  ------       --------------  -----  \n",
      " 0   Name         16598 non-null  object \n",
      " 1   Platform     16598 non-null  object \n",
      " 2   Year         16327 non-null  float64\n",
      " 3   Genre        16548 non-null  object \n",
      " 4   Publisher    16540 non-null  object \n",
      " 5   NA_Sales     16598 non-null  object \n",
      " 6   EU_Sales     16598 non-null  object \n",
      " 7   JP_Sales     16598 non-null  object \n",
      " 8   Other_Sales  16598 non-null  object \n",
      "dtypes: float64(1), object(8)\n",
      "memory usage: 1.1+ MB\n"
     ]
    }
   ],
   "source": [
    "df.info()"
   ]
  },
  {
   "cell_type": "code",
   "execution_count": 4,
   "id": "6246e108",
   "metadata": {
    "ExecuteTime": {
     "end_time": "2022-05-19T02:58:04.522434Z",
     "start_time": "2022-05-19T02:58:04.499610Z"
    }
   },
   "outputs": [
    {
     "data": {
      "text/plain": [
       "Name             0\n",
       "Platform         0\n",
       "Year           271\n",
       "Genre           50\n",
       "Publisher       58\n",
       "NA_Sales         0\n",
       "EU_Sales         0\n",
       "JP_Sales         0\n",
       "Other_Sales      0\n",
       "dtype: int64"
      ]
     },
     "execution_count": 4,
     "metadata": {},
     "output_type": "execute_result"
    }
   ],
   "source": [
    "df.isnull().sum()"
   ]
  },
  {
   "cell_type": "markdown",
   "id": "1401921c",
   "metadata": {},
   "source": [
    "# 데이터 전처리\n",
    "1. Sales(판매량)의 단위가 일부는 M(million), K(thousand) 통일되어 있지 않음.\n",
    "2. Year(출시년도)에 표현방식이 다르고, 결측치가 존재.\n",
    "3. Genre에 결측치가 존재"
   ]
  },
  {
   "cell_type": "markdown",
   "id": "a764c130",
   "metadata": {},
   "source": [
    "## sales 전처리\n",
    "- 처리 전 : million(m), thousand(k) 단위가 섞여 있음\n",
    "- 처리 후: m으로 통일, global_sales 열을 새로 생성"
   ]
  },
  {
   "cell_type": "code",
   "execution_count": 5,
   "id": "235b166e",
   "metadata": {
    "ExecuteTime": {
     "end_time": "2022-05-19T02:58:08.257930Z",
     "start_time": "2022-05-19T02:58:08.248798Z"
    }
   },
   "outputs": [],
   "source": [
    "# 함수 정의: sales cleaning\n",
    "# 문자인 data type을 숫자(float)로 변경\n",
    "# M이 있으면 제거, K가 있으면 제거 후 1000으로 나눔(단위변환)\n",
    "\n",
    "def sales_cleaning(col):\n",
    "    clean_sales = []\n",
    "    for i in col:\n",
    "        if 'K' in i:\n",
    "            sale = float(i.replace('K','')) / 1000\n",
    "            clean_sales.append(sale)\n",
    "        elif 'M' in i:\n",
    "            sale = float(i.replace('M',''))\n",
    "            clean_sales.append(sale)\n",
    "        else:\n",
    "            sale = float(i)\n",
    "            clean_sales.append(sale)\n",
    "    return clean_sales"
   ]
  },
  {
   "cell_type": "code",
   "execution_count": 20,
   "id": "b9a200fe",
   "metadata": {
    "ExecuteTime": {
     "end_time": "2022-05-19T03:38:22.998904Z",
     "start_time": "2022-05-19T03:38:22.942211Z"
    },
    "scrolled": true
   },
   "outputs": [],
   "source": [
    "# 함수 적용해서 정리한 sales columns 만들기\n",
    "sales = ['NA_Sales','EU_Sales', 'JP_Sales', 'Other_Sales']\n",
    "\n",
    "df['NA_Sales'] = sales_cleaning(df['NA_Sales'])\n",
    "df['EU_Sales'] = sales_cleaning(df['EU_Sales'])\n",
    "df['JP_Sales'] = sales_cleaning(df['JP_Sales'])\n",
    "df['Other_Sales'] = sales_cleaning(df['Other_Sales'])"
   ]
  },
  {
   "cell_type": "code",
   "execution_count": 21,
   "id": "ff803c52",
   "metadata": {
    "ExecuteTime": {
     "end_time": "2022-05-19T03:38:25.401039Z",
     "start_time": "2022-05-19T03:38:25.386534Z"
    }
   },
   "outputs": [],
   "source": [
    "df['Glo_Sales'] = df[sales].sum(axis=1)"
   ]
  },
  {
   "cell_type": "markdown",
   "id": "e58ad1ee",
   "metadata": {},
   "source": [
    "- sales의 기술통계치와 분포 형태 "
   ]
  },
  {
   "cell_type": "code",
   "execution_count": 22,
   "id": "92dd57c9",
   "metadata": {
    "ExecuteTime": {
     "end_time": "2022-05-19T03:38:33.188166Z",
     "start_time": "2022-05-19T03:38:33.156836Z"
    }
   },
   "outputs": [
    {
     "data": {
      "text/html": [
       "<div>\n",
       "<style scoped>\n",
       "    .dataframe tbody tr th:only-of-type {\n",
       "        vertical-align: middle;\n",
       "    }\n",
       "\n",
       "    .dataframe tbody tr th {\n",
       "        vertical-align: top;\n",
       "    }\n",
       "\n",
       "    .dataframe thead th {\n",
       "        text-align: right;\n",
       "    }\n",
       "</style>\n",
       "<table border=\"1\" class=\"dataframe\">\n",
       "  <thead>\n",
       "    <tr style=\"text-align: right;\">\n",
       "      <th></th>\n",
       "      <th>NA_Sales</th>\n",
       "      <th>EU_Sales</th>\n",
       "      <th>JP_Sales</th>\n",
       "      <th>Other_Sales</th>\n",
       "    </tr>\n",
       "  </thead>\n",
       "  <tbody>\n",
       "    <tr>\n",
       "      <th>count</th>\n",
       "      <td>16598.000000</td>\n",
       "      <td>16598.000000</td>\n",
       "      <td>16598.000000</td>\n",
       "      <td>16598.000000</td>\n",
       "    </tr>\n",
       "    <tr>\n",
       "      <th>mean</th>\n",
       "      <td>0.264667</td>\n",
       "      <td>0.146652</td>\n",
       "      <td>0.077782</td>\n",
       "      <td>0.048063</td>\n",
       "    </tr>\n",
       "    <tr>\n",
       "      <th>std</th>\n",
       "      <td>0.816683</td>\n",
       "      <td>0.505351</td>\n",
       "      <td>0.309291</td>\n",
       "      <td>0.188588</td>\n",
       "    </tr>\n",
       "    <tr>\n",
       "      <th>min</th>\n",
       "      <td>0.000000</td>\n",
       "      <td>0.000000</td>\n",
       "      <td>0.000000</td>\n",
       "      <td>0.000000</td>\n",
       "    </tr>\n",
       "    <tr>\n",
       "      <th>25%</th>\n",
       "      <td>0.000000</td>\n",
       "      <td>0.000000</td>\n",
       "      <td>0.000000</td>\n",
       "      <td>0.000000</td>\n",
       "    </tr>\n",
       "    <tr>\n",
       "      <th>50%</th>\n",
       "      <td>0.080000</td>\n",
       "      <td>0.020000</td>\n",
       "      <td>0.000000</td>\n",
       "      <td>0.010000</td>\n",
       "    </tr>\n",
       "    <tr>\n",
       "      <th>75%</th>\n",
       "      <td>0.240000</td>\n",
       "      <td>0.110000</td>\n",
       "      <td>0.040000</td>\n",
       "      <td>0.040000</td>\n",
       "    </tr>\n",
       "    <tr>\n",
       "      <th>max</th>\n",
       "      <td>41.490000</td>\n",
       "      <td>29.020000</td>\n",
       "      <td>10.220000</td>\n",
       "      <td>10.570000</td>\n",
       "    </tr>\n",
       "  </tbody>\n",
       "</table>\n",
       "</div>"
      ],
      "text/plain": [
       "           NA_Sales      EU_Sales      JP_Sales   Other_Sales\n",
       "count  16598.000000  16598.000000  16598.000000  16598.000000\n",
       "mean       0.264667      0.146652      0.077782      0.048063\n",
       "std        0.816683      0.505351      0.309291      0.188588\n",
       "min        0.000000      0.000000      0.000000      0.000000\n",
       "25%        0.000000      0.000000      0.000000      0.000000\n",
       "50%        0.080000      0.020000      0.000000      0.010000\n",
       "75%        0.240000      0.110000      0.040000      0.040000\n",
       "max       41.490000     29.020000     10.220000     10.570000"
      ]
     },
     "execution_count": 22,
     "metadata": {},
     "output_type": "execute_result"
    }
   ],
   "source": [
    "df[sales].describe()"
   ]
  },
  {
   "cell_type": "code",
   "execution_count": 23,
   "id": "7842c942",
   "metadata": {
    "ExecuteTime": {
     "end_time": "2022-05-19T03:38:35.370700Z",
     "start_time": "2022-05-19T03:38:35.356511Z"
    }
   },
   "outputs": [
    {
     "data": {
      "text/plain": [
       "NA_Sales       18.799627\n",
       "EU_Sales       18.875535\n",
       "JP_Sales       11.206458\n",
       "Other_Sales    24.233923\n",
       "dtype: float64"
      ]
     },
     "execution_count": 23,
     "metadata": {},
     "output_type": "execute_result"
    }
   ],
   "source": [
    "df[sales].skew()"
   ]
  },
  {
   "cell_type": "code",
   "execution_count": 10,
   "id": "0fa0cdc7",
   "metadata": {
    "ExecuteTime": {
     "end_time": "2022-05-19T02:59:34.949212Z",
     "start_time": "2022-05-19T02:59:34.532542Z"
    },
    "scrolled": true
   },
   "outputs": [
    {
     "data": {
      "image/png": "[encoded data removed]",
      "text/plain": [
       "<Figure size 720x720 with 4 Axes>"
      ]
     },
     "metadata": {
      "needs_background": "light"
     },
     "output_type": "display_data"
    }
   ],
   "source": [
    "# 히스토그램으로 데이터 분포 보기 \n",
    "\n",
    "plt.figure(figsize=(10,10))\n",
    "\n",
    "plt.subplot(221)\n",
    "plt.grid(True)\n",
    "plt.title(\"NA\")\n",
    "plt.hist(df[\"NA_Sales\"], bins=50)\n",
    "\n",
    "plt.subplot(222)\n",
    "plt.grid(True)\n",
    "plt.title(\"EU\")\n",
    "plt.hist(df[\"EU_Sales\"], bins=50)\n",
    "\n",
    "plt.subplot(223)\n",
    "plt.grid(True)\n",
    "plt.title(\"JP\")\n",
    "plt.hist(df[\"JP_Sales\"], bins=50)\n",
    "\n",
    "plt.subplot(224)\n",
    "plt.grid(True)\n",
    "plt.title(\"Ot\")\n",
    "plt.hist(df[\"Other_Sales\"], bins=50)\n",
    "\n",
    "plt.show()"
   ]
  },
  {
   "cell_type": "markdown",
   "id": "2b976751",
   "metadata": {},
   "source": [
    "## Year 전처리"
   ]
  },
  {
   "cell_type": "markdown",
   "id": "362ccee2",
   "metadata": {},
   "source": [
    "### 연도 형식 통일하기 \n",
    "- 처리 전: 2002, 97, 2 형태로 값이 있음.\n",
    "- 처리 후: 2002, 1997, 2002로 양식 통일 진행함. "
   ]
  },
  {
   "cell_type": "code",
   "execution_count": 24,
   "id": "83b6cf50",
   "metadata": {
    "ExecuteTime": {
     "end_time": "2022-05-19T03:38:50.799714Z",
     "start_time": "2022-05-19T03:38:50.790645Z"
    }
   },
   "outputs": [],
   "source": [
    "# 함수 정의: year cleaning\n",
    "\n",
    "def year_cleaning(year):\n",
    "    if np.isnan(year):                 # 결측치는 우선 pass\n",
    "        pass\n",
    "    else:        \n",
    "        year = str(year).split('.')[0] \n",
    "        if len(year) == 1:             #연도에 숫자 하나만 있을 경우\n",
    "            y = '200'+ year\n",
    "            return int(y)\n",
    "        if len(year) == 2:             #연도에 숫자 두개만 있을 경우\n",
    "            y = int('20' + year)\n",
    "            if y > 2080:               #1900년대 연도 변환\n",
    "                y = y - 100\n",
    "                return y\n",
    "            else:\n",
    "                return y                \n",
    "        if len(year) == 4:             \n",
    "            return int(year)\n",
    "        else: \n",
    "            return int(year)"
   ]
  },
  {
   "cell_type": "code",
   "execution_count": 25,
   "id": "299f7a7d",
   "metadata": {
    "ExecuteTime": {
     "end_time": "2022-05-19T03:38:52.787124Z",
     "start_time": "2022-05-19T03:38:52.724208Z"
    }
   },
   "outputs": [],
   "source": [
    "df['Year'] = df['Year'].apply(year_cleaning)"
   ]
  },
  {
   "cell_type": "markdown",
   "id": "1aa458e1",
   "metadata": {},
   "source": [
    "### 결측치(missing value) 처리(1)\n",
    "- 처리 전: 게임이 플랫폼으로도 구별이 되어 있어 동일 게임이 여러개의 관측값을 가지고 있음.\n",
    "- 처리 후: 271개의 missing value -> 147로 줄임"
   ]
  },
  {
   "cell_type": "code",
   "execution_count": 26,
   "id": "fa06ab7d",
   "metadata": {
    "ExecuteTime": {
     "end_time": "2022-05-19T03:38:54.949631Z",
     "start_time": "2022-05-19T03:38:54.372882Z"
    }
   },
   "outputs": [],
   "source": [
    "# year 값이 있는 것들만으로 df 후 Dictionary로 변경해서 일종의 db를 구축\n",
    "df_year = df[~(df['Year'].isnull())][['Name','Year']]\n",
    "db_game_year = df_year.set_index('Name').T.to_dict('records')[0]\n",
    "\n",
    "# year가 nan인 행을 찾아, 그 행의 게임 name이 db에 있는지 파악해서 있으면 year 입력\n",
    "mis_year_idx = df[df['Year'].isnull()].index\n",
    "\n",
    "for i in mis_year_idx:\n",
    "    name = df.iloc[i]['Name']\n",
    "    try:\n",
    "        if db_game_year[name]:\n",
    "            df.at[i,'Year'] = db_game_year[name]\n",
    "    except:\n",
    "        pass"
   ]
  },
  {
   "cell_type": "code",
   "execution_count": 27,
   "id": "847d2512",
   "metadata": {
    "ExecuteTime": {
     "end_time": "2022-05-19T03:38:55.620962Z",
     "start_time": "2022-05-19T03:38:55.604556Z"
    }
   },
   "outputs": [
    {
     "data": {
      "text/plain": [
       "Name             0\n",
       "Platform         0\n",
       "Year           147\n",
       "Genre           50\n",
       "Publisher       58\n",
       "NA_Sales         0\n",
       "EU_Sales         0\n",
       "JP_Sales         0\n",
       "Other_Sales      0\n",
       "Glo_Sales        0\n",
       "dtype: int64"
      ]
     },
     "execution_count": 27,
     "metadata": {},
     "output_type": "execute_result"
    }
   ],
   "source": [
    "df.isnull().sum()"
   ]
  },
  {
   "cell_type": "markdown",
   "id": "47db1ec7",
   "metadata": {},
   "source": [
    "###  결측치(missing value) 처리(2)\n",
    "- 처리 전: year가 결측치인 게임 중 일부는 그 판매량이 높음(1M 이상)\n",
    "- 처리 후: 9개 게임은 직접 찾아 입력 결측치 147 -> 133, 133개 결측치는 제거 예정\n"
   ]
  },
  {
   "cell_type": "code",
   "execution_count": 28,
   "id": "eaac4b6b",
   "metadata": {
    "ExecuteTime": {
     "end_time": "2022-05-19T03:39:10.112658Z",
     "start_time": "2022-05-19T03:39:10.089997Z"
    }
   },
   "outputs": [
    {
     "data": {
      "text/html": [
       "<div>\n",
       "<style scoped>\n",
       "    .dataframe tbody tr th:only-of-type {\n",
       "        vertical-align: middle;\n",
       "    }\n",
       "\n",
       "    .dataframe tbody tr th {\n",
       "        vertical-align: top;\n",
       "    }\n",
       "\n",
       "    .dataframe thead th {\n",
       "        text-align: right;\n",
       "    }\n",
       "</style>\n",
       "<table border=\"1\" class=\"dataframe\">\n",
       "  <thead>\n",
       "    <tr style=\"text-align: right;\">\n",
       "      <th></th>\n",
       "      <th>Glo_Sales</th>\n",
       "    </tr>\n",
       "    <tr>\n",
       "      <th>Name</th>\n",
       "      <th></th>\n",
       "    </tr>\n",
       "  </thead>\n",
       "  <tbody>\n",
       "    <tr>\n",
       "      <th>Action Man-Operation Extreme</th>\n",
       "      <td>0.09</td>\n",
       "    </tr>\n",
       "    <tr>\n",
       "      <th>Advance Wars: Days of Ruin</th>\n",
       "      <td>0.63</td>\n",
       "    </tr>\n",
       "    <tr>\n",
       "      <th>Adventure</th>\n",
       "      <td>1.30</td>\n",
       "    </tr>\n",
       "    <tr>\n",
       "      <th>Agarest Senki: Re-appearance</th>\n",
       "      <td>0.01</td>\n",
       "    </tr>\n",
       "    <tr>\n",
       "      <th>Air-Sea Battle</th>\n",
       "      <td>0.98</td>\n",
       "    </tr>\n",
       "    <tr>\n",
       "      <th>...</th>\n",
       "      <td>...</td>\n",
       "    </tr>\n",
       "    <tr>\n",
       "      <th>Yu Yu Hakusho: Dark Tournament</th>\n",
       "      <td>0.21</td>\n",
       "    </tr>\n",
       "    <tr>\n",
       "      <th>Yu-Gi-Oh! 5D's Wheelie Breakers (JP sales)</th>\n",
       "      <td>0.02</td>\n",
       "    </tr>\n",
       "    <tr>\n",
       "      <th>Zero: Tsukihami no Kamen</th>\n",
       "      <td>0.08</td>\n",
       "    </tr>\n",
       "    <tr>\n",
       "      <th>eJay Clubworld</th>\n",
       "      <td>0.15</td>\n",
       "    </tr>\n",
       "    <tr>\n",
       "      <th>wwe Smackdown vs. Raw 2006</th>\n",
       "      <td>3.00</td>\n",
       "    </tr>\n",
       "  </tbody>\n",
       "</table>\n",
       "<p>133 rows × 1 columns</p>\n",
       "</div>"
      ],
      "text/plain": [
       "                                            Glo_Sales\n",
       "Name                                                 \n",
       "Action Man-Operation Extreme                     0.09\n",
       "Advance Wars: Days of Ruin                       0.63\n",
       "Adventure                                        1.30\n",
       "Agarest Senki: Re-appearance                     0.01\n",
       "Air-Sea Battle                                   0.98\n",
       "...                                               ...\n",
       "Yu Yu Hakusho: Dark Tournament                   0.21\n",
       "Yu-Gi-Oh! 5D's Wheelie Breakers (JP sales)       0.02\n",
       "Zero: Tsukihami no Kamen                         0.08\n",
       "eJay Clubworld                                   0.15\n",
       "wwe Smackdown vs. Raw 2006                       3.00\n",
       "\n",
       "[133 rows x 1 columns]"
      ]
     },
     "execution_count": 28,
     "metadata": {},
     "output_type": "execute_result"
    }
   ],
   "source": [
    "# year가 결측치인 게임들의 판매량을 검토함. \n",
    "df_noy_sales = df[(df['Year'].isnull())].groupby('Name').Glo_Sales.sum().\\\n",
    "               to_frame()\n",
    "df_noy_sales"
   ]
  },
  {
   "cell_type": "code",
   "execution_count": 30,
   "id": "da2b3140",
   "metadata": {
    "ExecuteTime": {
     "end_time": "2022-05-19T03:41:14.693435Z",
     "start_time": "2022-05-19T03:41:14.684242Z"
    }
   },
   "outputs": [
    {
     "data": {
      "text/plain": [
       "Name\n",
       "Rock Band                                   7.33\n",
       "wwe Smackdown vs. Raw 2006                  3.00\n",
       "Frogger's Adventures: Temple of the Frog    2.40\n",
       "Test Drive Unlimited 2                      1.52\n",
       "Triple Play 99                              1.46\n",
       "Adventure                                   1.30\n",
       "Combat                                      1.25\n",
       "Legacy of Kain: Soul Reaver                 1.05\n",
       "Donkey Kong Land III                        1.03\n",
       "Air-Sea Battle                              0.98\n",
       "Name: Glo_Sales, dtype: float64"
      ]
     },
     "execution_count": 30,
     "metadata": {},
     "output_type": "execute_result"
    }
   ],
   "source": [
    "# 판매량이 높은 순서로 게임을 정렬함. \n",
    "# 일부 게임은 무시하기에 판매량이 매우 크다는 걸 알 수 있음. \n",
    "df_noy_sales.Glo_Sales.sort_values(ascending = False)[:10]"
   ]
  },
  {
   "cell_type": "code",
   "execution_count": 31,
   "id": "02546c04",
   "metadata": {
    "ExecuteTime": {
     "end_time": "2022-05-19T03:43:50.451984Z",
     "start_time": "2022-05-19T03:43:50.418337Z"
    }
   },
   "outputs": [],
   "source": [
    "# 1M이 넘는 게임은 직접 찾아 입력\n",
    "\n",
    "find_year = {'Adventure': 1980,\n",
    " 'Combat': 1974,\n",
    " 'Donkey Kong Land III':1997,\n",
    " \"Frogger's Adventures: Temple of the Frog\": 2001,\n",
    " 'Legacy of Kain: Soul Reaver': 1999,\n",
    " 'Rock Band':2007,\n",
    " 'Test Drive Unlimited 2':2011,\n",
    " 'Triple Play 99':1998,\n",
    " 'wwe Smackdown vs. Raw 2006':2005}\n",
    "\n",
    "db_game_year.update(find_year) # 위에서 만든 db에 업데이트 후 게임 이름이 해당 db에 있으면 입력\n",
    "\n",
    "for i in list(df[df['Year'].isnull()].index):\n",
    "    name = df.iloc[i]['Name']\n",
    "    try:\n",
    "        if db_game_year[name]:\n",
    "            df.at[i,'Year'] = db_game_year[name]\n",
    "    except:\n",
    "        pass"
   ]
  },
  {
   "cell_type": "code",
   "execution_count": 32,
   "id": "a29b3d09",
   "metadata": {
    "ExecuteTime": {
     "end_time": "2022-05-19T03:44:00.275849Z",
     "start_time": "2022-05-19T03:44:00.257092Z"
    }
   },
   "outputs": [
    {
     "data": {
      "text/plain": [
       "Name             0\n",
       "Platform         0\n",
       "Year           133\n",
       "Genre           50\n",
       "Publisher       58\n",
       "NA_Sales         0\n",
       "EU_Sales         0\n",
       "JP_Sales         0\n",
       "Other_Sales      0\n",
       "Glo_Sales        0\n",
       "dtype: int64"
      ]
     },
     "execution_count": 32,
     "metadata": {},
     "output_type": "execute_result"
    }
   ],
   "source": [
    "df.isnull().sum()"
   ]
  },
  {
   "cell_type": "markdown",
   "id": "40210df1",
   "metadata": {},
   "source": [
    "## 장르 결측치 처리\n",
    "### 결측치 처리 (1)\n",
    "\n",
    "- 처리 전: 같은 이름의 게임 중 일부가 결측치로 되어 있음.\n",
    "- 처리 후: 결측치 50 -> 30"
   ]
  },
  {
   "cell_type": "code",
   "execution_count": 35,
   "id": "9af42cd3",
   "metadata": {
    "ExecuteTime": {
     "end_time": "2022-05-19T06:51:54.650936Z",
     "start_time": "2022-05-19T06:51:53.944295Z"
    }
   },
   "outputs": [],
   "source": [
    "# genre 값이 있는 것들만으로 df 후 Dictionary로 변경해서 일종의 db를 구축\n",
    "df_genre = df[~(df['Genre'].isnull())][['Name','Genre']]\n",
    "db_game_genre = df_genre.set_index('Name').T.to_dict('records')[0]\n",
    "\n",
    "# genre가 nan인 행을 찾아, 그 행의 게임 name이 db에 있는지 파악해서 있으면 genre 입력\n",
    "\n",
    "mis_genre_idx = df[df['Genre'].isnull()].index\n",
    "for i in mis_genre_idx:\n",
    "    name = df.iloc[i]['Name']\n",
    "    try:\n",
    "        if db_game_genre[name]:\n",
    "            df.at[i,'Genre'] = db_game_genre[name]\n",
    "    except:\n",
    "        pass"
   ]
  },
  {
   "cell_type": "code",
   "execution_count": 36,
   "id": "dc571d9f",
   "metadata": {
    "ExecuteTime": {
     "end_time": "2022-05-19T06:51:54.679379Z",
     "start_time": "2022-05-19T06:51:54.672078Z"
    }
   },
   "outputs": [
    {
     "data": {
      "text/plain": [
       "Name               0\n",
       "Platform           0\n",
       "Year             133\n",
       "Genre             30\n",
       "Publisher         58\n",
       "NA_Sales           0\n",
       "EU_Sales           0\n",
       "JP_Sales           0\n",
       "Other_Sales        0\n",
       "Glo_Sales          0\n",
       "C_genre        16578\n",
       "dtype: int64"
      ]
     },
     "execution_count": 36,
     "metadata": {},
     "output_type": "execute_result"
    }
   ],
   "source": [
    "df.isnull().sum()"
   ]
  },
  {
   "cell_type": "markdown",
   "id": "86a41fd5",
   "metadata": {},
   "source": [
    "### 결측치 처리 (2)\n",
    "- 처리 전: Genre가 결측치인 일부 게임의 판매량이 높음\n",
    "- 처리 후: 1M이 넘는 게임은 직접 찾아 채움 결측치 30 -> 22"
   ]
  },
  {
   "cell_type": "code",
   "execution_count": 44,
   "id": "fd752431",
   "metadata": {
    "ExecuteTime": {
     "end_time": "2022-05-19T07:10:47.939833Z",
     "start_time": "2022-05-19T07:10:47.911044Z"
    }
   },
   "outputs": [
    {
     "data": {
      "text/plain": [
       "Name\n",
       "Pokemon X/Pokemon Y                         14.35\n",
       "Wii Party                                    8.49\n",
       "Final Fantasy XII                            5.95\n",
       "Onimusha: Warlords                           2.70\n",
       "Bloodborne                                   2.38\n",
       "Chrono Cross                                 1.85\n",
       "Yakuza 3                                     1.12\n",
       "F-Zero X                                     1.10\n",
       "WarioWare, Inc.: Mega Party Game$            0.71\n",
       "Ape Escape: On the Loose                     0.70\n",
       "SingStar Singalong With Disney               0.61\n",
       "NASCAR Racing                                0.42\n",
       "Puppy Palace                                 0.38\n",
       "The Godfather: Dons Edition                  0.30\n",
       "Jurassic Park III: Island Attack             0.18\n",
       "Brain Boost: Beta Wave                       0.15\n",
       "Brain Quest: Grades 5 & 6                    0.12\n",
       "Urban Chaos                                  0.11\n",
       "Virtual Chess 64                             0.06\n",
       "Myth Makers: Orbs of Doom                    0.05\n",
       "Bakemonogatari Portable                      0.05\n",
       "Medabots: Metabee                            0.05\n",
       "Treasure Report: Kikai Jikake no Isan        0.05\n",
       "PQ2: Practical Intelligence Quotient         0.04\n",
       "Astonishia Story                             0.03\n",
       "Ukiyo no Shishi                              0.03\n",
       "Largo Winch .// Commando Sar                 0.02\n",
       "UFO: Trilogy                                 0.02\n",
       "Princess Saver! Eternal Love for My Lady     0.02\n",
       "Myth Makers: Super Kart GP                   0.01\n",
       "Name: Glo_Sales, dtype: float64"
      ]
     },
     "execution_count": 44,
     "metadata": {},
     "output_type": "execute_result"
    }
   ],
   "source": [
    "df[df['Genre'].isnull()].groupby('Name').Glo_Sales.sum().sort_values(ascending=False)"
   ]
  },
  {
   "cell_type": "code",
   "execution_count": 46,
   "id": "5d112178",
   "metadata": {
    "ExecuteTime": {
     "end_time": "2022-05-19T07:12:04.402784Z",
     "start_time": "2022-05-19T07:12:03.584484Z"
    }
   },
   "outputs": [],
   "source": [
    "#year에서 1M을 기준으로 삼은 것처럼 장르도 1M이 넘는 게임만 찾아서 데이터를 보완해보자. \n",
    "db_find_genre = {'Pokemon X/Pokemon Y' : 'Role-Playing',\n",
    "              'Wii Party' : 'Misc',\n",
    "              'Final Fantasy XII' : 'Role-Playing',\n",
    "              'Onimusha: Warlords': \"Action\",\n",
    "              'Bloodborne' : 'Action',\n",
    "              'Chrono Cross': 'Action',\n",
    "              'Yakuza 3': 'Action',\n",
    "              'F-Zero X': 'Racing'\n",
    "}\n",
    "for i in df['Genre'].isnull().index:\n",
    "    name = df.iloc[i]['Name']\n",
    "    try:\n",
    "        if db_find_genre[name]:\n",
    "            df.at[i,'Genre'] = db_find_genre[name]\n",
    "    except:\n",
    "        pass"
   ]
  },
  {
   "cell_type": "code",
   "execution_count": 47,
   "id": "f8d1c63e",
   "metadata": {
    "ExecuteTime": {
     "end_time": "2022-05-19T07:12:20.934456Z",
     "start_time": "2022-05-19T07:12:20.903532Z"
    }
   },
   "outputs": [
    {
     "data": {
      "text/plain": [
       "Name             0\n",
       "Platform         0\n",
       "Year           133\n",
       "Genre           22\n",
       "Publisher       58\n",
       "NA_Sales         0\n",
       "EU_Sales         0\n",
       "JP_Sales         0\n",
       "Other_Sales      0\n",
       "Glo_Sales        0\n",
       "dtype: int64"
      ]
     },
     "execution_count": 47,
     "metadata": {},
     "output_type": "execute_result"
    }
   ],
   "source": [
    "df.isnull().sum()"
   ]
  },
  {
   "cell_type": "markdown",
   "id": "00e3838f",
   "metadata": {},
   "source": [
    "## 전처리 1차 완료\n",
    "- year, genre 결측치는 모두 제거하고 별도 dataframe을 파일로 저장"
   ]
  },
  {
   "cell_type": "code",
   "execution_count": 49,
   "id": "06a996c4",
   "metadata": {
    "ExecuteTime": {
     "end_time": "2022-05-19T07:15:25.472421Z",
     "start_time": "2022-05-19T07:15:25.440792Z"
    }
   },
   "outputs": [
    {
     "data": {
      "text/html": [
       "<div>\n",
       "<style scoped>\n",
       "    .dataframe tbody tr th:only-of-type {\n",
       "        vertical-align: middle;\n",
       "    }\n",
       "\n",
       "    .dataframe tbody tr th {\n",
       "        vertical-align: top;\n",
       "    }\n",
       "\n",
       "    .dataframe thead th {\n",
       "        text-align: right;\n",
       "    }\n",
       "</style>\n",
       "<table border=\"1\" class=\"dataframe\">\n",
       "  <thead>\n",
       "    <tr style=\"text-align: right;\">\n",
       "      <th></th>\n",
       "      <th>Name</th>\n",
       "      <th>Platform</th>\n",
       "      <th>Year</th>\n",
       "      <th>Genre</th>\n",
       "      <th>Publisher</th>\n",
       "      <th>NA_Sales</th>\n",
       "      <th>EU_Sales</th>\n",
       "      <th>JP_Sales</th>\n",
       "      <th>Other_Sales</th>\n",
       "      <th>Glo_Sales</th>\n",
       "    </tr>\n",
       "  </thead>\n",
       "  <tbody>\n",
       "    <tr>\n",
       "      <th>16593</th>\n",
       "      <td>Ice Age 2: The Meltdown</td>\n",
       "      <td>GC</td>\n",
       "      <td>2006.0</td>\n",
       "      <td>Platform</td>\n",
       "      <td>Vivendi Games</td>\n",
       "      <td>0.15</td>\n",
       "      <td>0.04</td>\n",
       "      <td>0.00</td>\n",
       "      <td>0.01</td>\n",
       "      <td>0.20</td>\n",
       "    </tr>\n",
       "    <tr>\n",
       "      <th>16594</th>\n",
       "      <td>Rainbow Islands: Revolution</td>\n",
       "      <td>PSP</td>\n",
       "      <td>2005.0</td>\n",
       "      <td>Action</td>\n",
       "      <td>Rising Star Games</td>\n",
       "      <td>0.01</td>\n",
       "      <td>0.00</td>\n",
       "      <td>0.00</td>\n",
       "      <td>0.00</td>\n",
       "      <td>0.01</td>\n",
       "    </tr>\n",
       "    <tr>\n",
       "      <th>16595</th>\n",
       "      <td>NBA 2K16</td>\n",
       "      <td>PS3</td>\n",
       "      <td>2015.0</td>\n",
       "      <td>Sports</td>\n",
       "      <td>Take-Two Interactive</td>\n",
       "      <td>0.44</td>\n",
       "      <td>0.19</td>\n",
       "      <td>0.03</td>\n",
       "      <td>0.13</td>\n",
       "      <td>0.79</td>\n",
       "    </tr>\n",
       "    <tr>\n",
       "      <th>16596</th>\n",
       "      <td>Toukiden: The Age of Demons</td>\n",
       "      <td>PSV</td>\n",
       "      <td>2013.0</td>\n",
       "      <td>Action</td>\n",
       "      <td>Tecmo Koei</td>\n",
       "      <td>0.05</td>\n",
       "      <td>0.05</td>\n",
       "      <td>0.25</td>\n",
       "      <td>0.03</td>\n",
       "      <td>0.38</td>\n",
       "    </tr>\n",
       "    <tr>\n",
       "      <th>16597</th>\n",
       "      <td>The King of Fighters '95</td>\n",
       "      <td>PS</td>\n",
       "      <td>1996.0</td>\n",
       "      <td>Fighting</td>\n",
       "      <td>Sony Computer Entertainment</td>\n",
       "      <td>0.00</td>\n",
       "      <td>0.00</td>\n",
       "      <td>0.16</td>\n",
       "      <td>0.01</td>\n",
       "      <td>0.17</td>\n",
       "    </tr>\n",
       "  </tbody>\n",
       "</table>\n",
       "</div>"
      ],
      "text/plain": [
       "                              Name Platform    Year     Genre  \\\n",
       "16593      Ice Age 2: The Meltdown       GC  2006.0  Platform   \n",
       "16594  Rainbow Islands: Revolution      PSP  2005.0    Action   \n",
       "16595                     NBA 2K16      PS3  2015.0    Sports   \n",
       "16596  Toukiden: The Age of Demons      PSV  2013.0    Action   \n",
       "16597     The King of Fighters '95       PS  1996.0  Fighting   \n",
       "\n",
       "                         Publisher  NA_Sales  EU_Sales  JP_Sales  Other_Sales  \\\n",
       "16593                Vivendi Games      0.15      0.04      0.00         0.01   \n",
       "16594            Rising Star Games      0.01      0.00      0.00         0.00   \n",
       "16595         Take-Two Interactive      0.44      0.19      0.03         0.13   \n",
       "16596                   Tecmo Koei      0.05      0.05      0.25         0.03   \n",
       "16597  Sony Computer Entertainment      0.00      0.00      0.16         0.01   \n",
       "\n",
       "       Glo_Sales  \n",
       "16593       0.20  \n",
       "16594       0.01  \n",
       "16595       0.79  \n",
       "16596       0.38  \n",
       "16597       0.17  "
      ]
     },
     "execution_count": 49,
     "metadata": {},
     "output_type": "execute_result"
    }
   ],
   "source": [
    "df = df.dropna(subset=['Year','Genre'])\n",
    "df.tail()"
   ]
  },
  {
   "cell_type": "code",
   "execution_count": 50,
   "id": "252f8bbf",
   "metadata": {
    "ExecuteTime": {
     "end_time": "2022-05-19T07:15:45.004324Z",
     "start_time": "2022-05-19T07:15:44.980538Z"
    }
   },
   "outputs": [
    {
     "name": "stdout",
     "output_type": "stream",
     "text": [
      "<class 'pandas.core.frame.DataFrame'>\n",
      "Int64Index: 16443 entries, 0 to 16597\n",
      "Data columns (total 10 columns):\n",
      " #   Column       Non-Null Count  Dtype  \n",
      "---  ------       --------------  -----  \n",
      " 0   Name         16443 non-null  object \n",
      " 1   Platform     16443 non-null  object \n",
      " 2   Year         16443 non-null  float64\n",
      " 3   Genre        16443 non-null  object \n",
      " 4   Publisher    16399 non-null  object \n",
      " 5   NA_Sales     16443 non-null  float64\n",
      " 6   EU_Sales     16443 non-null  float64\n",
      " 7   JP_Sales     16443 non-null  float64\n",
      " 8   Other_Sales  16443 non-null  float64\n",
      " 9   Glo_Sales    16443 non-null  float64\n",
      "dtypes: float64(6), object(4)\n",
      "memory usage: 1.4+ MB\n"
     ]
    }
   ],
   "source": [
    "df.info()"
   ]
  },
  {
   "cell_type": "code",
   "execution_count": null,
   "id": "ce74622a",
   "metadata": {},
   "outputs": [],
   "source": [
    "# 1974(1개 게임), 2017(2개 게임), 2020(1개) 로 "
   ]
  },
  {
   "cell_type": "code",
   "execution_count": 51,
   "id": "fbb47b79",
   "metadata": {
    "ExecuteTime": {
     "end_time": "2022-05-19T07:17:36.860627Z",
     "start_time": "2022-05-19T07:17:36.709928Z"
    }
   },
   "outputs": [],
   "source": [
    "# 파일 저장\n",
    "df.to_csv('vgames2_cleaned', sep =',', index = False)"
   ]
  }
 ],
 "metadata": {
  "kernelspec": {
   "display_name": "Python 3 (ipykernel)",
   "language": "python",
   "name": "python3"
  },
  "language_info": {
   "codemirror_mode": {
    "name": "ipython",
    "version": 3
   },
   "file_extension": ".py",
   "mimetype": "text/x-python",
   "name": "python",
   "nbconvert_exporter": "python",
   "pygments_lexer": "ipython3",
   "version": "3.9.7"
  },
  "toc": {
   "base_numbering": 1,
   "nav_menu": {},
   "number_sections": true,
   "sideBar": true,
   "skip_h1_title": false,
   "title_cell": "Table of Contents",
   "title_sidebar": "Contents",
   "toc_cell": false,
   "toc_position": {},
   "toc_section_display": true,
   "toc_window_display": false
  }
 },
 "nbformat": 4,
 "nbformat_minor": 5
}
